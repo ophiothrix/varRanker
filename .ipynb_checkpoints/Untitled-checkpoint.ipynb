{
 "cells": [
  {
   "cell_type": "code",
   "execution_count": 5,
   "metadata": {},
   "outputs": [
    {
     "name": "stdout",
     "output_type": "stream",
     "text": [
      "[nan]\n"
     ]
    }
   ],
   "source": [
    "import pyBigWig\n",
    "bw = pyBigWig.open(\"./cache/conservation.scores/phastCons/chr1.phastCons100way.bw\")\n",
    "scores = open(\"scores.txt\", \"w\")\n",
    "for line in open(\"positions.bed\"):\n",
    "    cols = line.strip().split()\n",
    "    vals = bw.values(cols[0], int(cols[1])-1, int(cols[2]))\n",
    "    print(vals)\n",
    "    print >> scores, vals\n",
    "scores.close()\n",
    "bw.close()\n",
    "\n"
   ]
  }
 ],
 "metadata": {
  "kernelspec": {
   "display_name": "Python 2",
   "language": "python",
   "name": "python2"
  },
  "language_info": {
   "codemirror_mode": {
    "name": "ipython",
    "version": 2
   },
   "file_extension": ".py",
   "mimetype": "text/x-python",
   "name": "python",
   "nbconvert_exporter": "python",
   "pygments_lexer": "ipython2",
   "version": "2.7.13"
  }
 },
 "nbformat": 4,
 "nbformat_minor": 2
}
